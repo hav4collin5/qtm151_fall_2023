{
 "cells": [
  {
   "attachments": {},
   "cell_type": "markdown",
   "metadata": {},
   "source": [
    "# Assignment 5"
   ]
  },
  {
   "attachments": {},
   "cell_type": "markdown",
   "metadata": {},
   "source": [
    "## Try to submit as an HTML file"
   ]
  },
  {
   "attachments": {},
   "cell_type": "markdown",
   "metadata": {},
   "source": [
    "<font size = \"5\">\n",
    "Print your Emory code below"
   ]
  },
  {
   "cell_type": "code",
   "execution_count": 15,
   "metadata": {},
   "outputs": [
    {
     "data": {
      "text/plain": [
       "2457321"
      ]
     },
     "execution_count": 15,
     "metadata": {},
     "output_type": "execute_result"
    }
   ],
   "source": [
    "# Write your answer here:\n",
    "2457321"
   ]
  },
  {
   "attachments": {},
   "cell_type": "markdown",
   "metadata": {},
   "source": [
    "<font size = \"5\">\n",
    "\n",
    "Import the \"pandas\" library"
   ]
  },
  {
   "cell_type": "code",
   "execution_count": 16,
   "metadata": {},
   "outputs": [],
   "source": [
    "# Write your answer here:\n",
    "import pandas as pd"
   ]
  },
  {
   "attachments": {},
   "cell_type": "markdown",
   "metadata": {},
   "source": [
    "<font size = \"5\">\n",
    "\n",
    "Import the  \"os\" library\n",
    "\n",
    "- This is the \"operating system\" library\n",
    "- Helpful for managing folders"
   ]
  },
  {
   "cell_type": "code",
   "execution_count": 17,
   "metadata": {},
   "outputs": [],
   "source": [
    "# Write your answer here:\n",
    "\n",
    "import os"
   ]
  },
  {
   "attachments": {},
   "cell_type": "markdown",
   "metadata": {},
   "source": [
    "<font size = \"5\">\n",
    "\n",
    "(a) Check the working directory\n",
    "\n",
    "<font size = \"3\">\n",
    "\n",
    "- We will use a new command \"os.getcwd()\"\n",
    "- This shows you the current working directory (CWD) in your computer\n",
    "- This is usually the folder where your Python notebook is stored\n",
    "\n",
    "(1) Run the following commands:\n",
    "\n",
    "- Get CWD: ``` current_directory = os.getcwd() ```\n",
    "- Print CWD: ``` print(current_directory) ```\n",
    "\n",
    "(2) After getting the working directory, let's check the contents in the cwd. <br>\n",
    "\n",
    "(Please do this in a seperate markdown chunk)\n",
    "\n",
    "- Get the list of names of the files: `ls_files = os.listdir(current_directory)`\n",
    "- Print the list of files: `print(ls_files)`\n",
    "\n",
    "(3) You would see a folder called wdi_data, let's explore what is contained in it.\n",
    "\n",
    "- Change the working directory as the path to folder `wdi_data`: \n",
    "    - Try both\n",
    "        - ```os.chdir(current_directory+\"/\"+ls_files[2])``` (change the list position to reflect the location of 'wdi_data' if necessary)\n",
    "        - ```os.chdir(current_directory+\"/wdi_data\")```\n",
    "\n",
    "- Get the CWR and check the files and folders in the directory: ```print(os.listdir(os.getcwd()))```\n",
    "\n",
    "(4) Change your working directory back to the original ```current_directory```\n"
   ]
  },
  {
   "cell_type": "code",
   "execution_count": 18,
   "metadata": {},
   "outputs": [
    {
     "name": "stdout",
     "output_type": "stream",
     "text": [
      "/Users/havacollins/Desktop/qtm151_fall_2023/assingments/assignment5\n"
     ]
    }
   ],
   "source": [
    "# Write your answer for (1) here\n",
    "\n",
    "current_directory = os.getcwd()\n",
    "print(current_directory)\n"
   ]
  },
  {
   "cell_type": "code",
   "execution_count": 19,
   "metadata": {},
   "outputs": [
    {
     "name": "stdout",
     "output_type": "stream",
     "text": [
      "['.DS_Store', 'wdi_data', 'assignment5.ipynb', 'clean_data']\n"
     ]
    }
   ],
   "source": [
    "# Write your answer for (2) here\n",
    "ls_files = os.listdir(current_directory)\n",
    "\n",
    "print(ls_files)\n"
   ]
  },
  {
   "cell_type": "code",
   "execution_count": 20,
   "metadata": {},
   "outputs": [
    {
     "name": "stdout",
     "output_type": "stream",
     "text": [
      "['wdi_2020.csv', 'wdi_2000.csv', 'features.xlsx']\n"
     ]
    }
   ],
   "source": [
    "# Write your answer for (3) here\n",
    "os.chdir(current_directory+\"/wdi_data\")\n",
    "\n",
    "print(os.listdir(os.getcwd()))\n"
   ]
  },
  {
   "cell_type": "code",
   "execution_count": 21,
   "metadata": {},
   "outputs": [],
   "source": [
    "# Write your answer for (4) here\n",
    "\n",
    "os.chdir(current_directory)\n"
   ]
  },
  {
   "attachments": {},
   "cell_type": "markdown",
   "metadata": {},
   "source": [
    "<font size = \"5\">\n",
    "(b) Store dataset `wdi_2000.csv` in another folder\n",
    "\n",
    "<font size = \"3\">\n",
    "\n",
    "<br>\n",
    "\n",
    "- Create a variable: $\\quad$ ``` dataset_name  = \"wdi_2000.csv\" ```\n",
    "- Create a variable: $\\quad$ ``` old_directory = \"wdi_data/\" ```\n",
    "- Create a variable: $\\quad$ ``` new_directory = \"clean_data/\" ```\n",
    "- Create a variable \n",
    "$\\quad$ ``` old_path  = old_directory +  dataset_name```\n",
    "- Create a variable \n",
    "$\\quad$ ``` new_path  = new_directory +  dataset_name```\n",
    "- Read the the csv file in the old location and save it to the new location\n",
    "\n"
   ]
  },
  {
   "cell_type": "code",
   "execution_count": 22,
   "metadata": {},
   "outputs": [],
   "source": [
    "# Write your answer here:\n",
    "\n",
    "dataset_name = \"wdi_2000.csv\"\n",
    "old_directory = \"wdi_data/\"\n",
    "new_directory = \"clean_data/\"\n",
    "old_path = old_directory + dataset_name\n",
    "new_path = new_directory + dataset_name\n",
    "\n",
    "\n",
    "dataset = pd.read_csv(old_path)\n",
    "\n",
    "\n",
    "if not os.path.exists(new_directory):\n",
    "    os.makedirs(new_directory)\n",
    "\n",
    "dataset.to_csv(new_path, index=False)\n"
   ]
  },
  {
   "attachments": {},
   "cell_type": "markdown",
   "metadata": {},
   "source": [
    "<font size = \"5\">\n",
    "\n",
    "(c) Extract files from a directory\n",
    "\n",
    "<font size = \"3\" >\n",
    "- Get a list of files in the \"wdi_data\" folder\n",
    "\n",
    " ``` list_filenames = os.listdir(\"wdi_data\") ```\n",
    "\n",
    " - Print the list of files\n",
    " - Create an empty list called ```list_csv_files ```\n",
    " - Run a for-loop over ```list_filenames```\n",
    " - Append each element to ```list_csv_files ``` if its name ends in \".csv\"\n",
    " - Print ```list_csv_files ```\n",
    "\n",
    " The goal is to list all CSV files in the directory\n",
    "\n",
    " HINT:\n",
    " - Read the lecture on boolean variables\n",
    " - Use \"in\" to check whether \".csv\" is part of the filename\n",
    " "
   ]
  },
  {
   "cell_type": "code",
   "execution_count": 23,
   "metadata": {},
   "outputs": [
    {
     "name": "stdout",
     "output_type": "stream",
     "text": [
      "List of files in wdi_data folder:\n",
      "['wdi_2020.csv', 'wdi_2000.csv', 'features.xlsx']\n",
      "\n",
      "List of CSV files in the directory:\n",
      "['wdi_2020.csv', 'wdi_2000.csv']\n"
     ]
    }
   ],
   "source": [
    "# Write your answer here:\n",
    "\n",
    "list_filenames = os.listdir(\"wdi_data\")\n",
    "\n",
    "# Print the list of files\n",
    "print(\"List of files in wdi_data folder:\")\n",
    "print(list_filenames)\n",
    "\n",
    "list_csv_files = []\n",
    "\n",
    "for filename in list_filenames:\n",
    "    # Append each element to list_csv_files if its name ends in \".csv\"\n",
    "    if \".csv\" in filename:\n",
    "        list_csv_files.append(filename)\n",
    "\n",
    "\n",
    "print(\"\\nList of CSV files in the directory:\")\n",
    "print(list_csv_files)"
   ]
  },
  {
   "attachments": {},
   "cell_type": "markdown",
   "metadata": {},
   "source": [
    "<font size = \"5\">\n",
    "\n",
    "(d) Define a function that computes $ BMI = \\frac{weight (kg)}{height (m)^2} $\n",
    "\n",
    "<font size = \"3\">\n",
    "\n",
    "- Define a function with parameters $(w,h)$\n",
    "- Then calculate the value of $BMI$ for the following cases\n",
    "\n",
    "$\\quad $ $ (w = 85, h = 1.74)$ <br>\n",
    "$\\quad $ $ (w = 50, h = 1.68)$\n",
    "\n",
    "- Print the resulting output"
   ]
  },
  {
   "cell_type": "code",
   "execution_count": 24,
   "metadata": {},
   "outputs": [
    {
     "name": "stdout",
     "output_type": "stream",
     "text": [
      "BMI for (weight = 85 kg, height = 1.74 m): 28.075042938300964\n",
      "BMI for (weight = 50 kg, height = 1.68 m): 17.71541950113379\n"
     ]
    }
   ],
   "source": [
    "# Write your answer here\n",
    "def calculate_bmi(weight, height):\n",
    "    \"\"\"\n",
    "    Calculates BMI using the formula: BMI = weight (kg) / (height (m))^2\n",
    "    \n",
    "    Parameters:\n",
    "    - weight: Weight in kilograms\n",
    "    - height: Height in meters\n",
    "    \n",
    "    Returns:\n",
    "    - BMI value\n",
    "    \"\"\"\n",
    "    bmi = weight / (height ** 2)\n",
    "    return bmi\n",
    "\n",
    "bmi_case1 = calculate_bmi(85, 1.74)\n",
    "bmi_case2 = calculate_bmi(50, 1.68)\n",
    "\n",
    "print(\"BMI for (weight = 85 kg, height = 1.74 m):\", bmi_case1)\n",
    "print(\"BMI for (weight = 50 kg, height = 1.68 m):\", bmi_case2)"
   ]
  },
  {
   "attachments": {},
   "cell_type": "markdown",
   "metadata": {},
   "source": [
    "<font size = \"5\">\n",
    "\n",
    "(e) Repeat (d) but this time define a \"lambda\" function"
   ]
  },
  {
   "cell_type": "code",
   "execution_count": 25,
   "metadata": {},
   "outputs": [
    {
     "name": "stdout",
     "output_type": "stream",
     "text": [
      "BMI for (weight = 85 kg, height = 1.74 m): 28.075042938300964\n",
      "BMI for (weight = 50 kg, height = 1.68 m): 17.71541950113379\n"
     ]
    }
   ],
   "source": [
    "# Write your answer here\n",
    "\n",
    "calculate_bmi_lambda = lambda weight, height: weight / (height ** 2)\n",
    "\n",
    "bmi_case1_lambda = calculate_bmi_lambda(85, 1.74)\n",
    "bmi_case2_lambda = calculate_bmi_lambda(50, 1.68)\n",
    "\n",
    "print(\"BMI for (weight = 85 kg, height = 1.74 m):\", bmi_case1_lambda)\n",
    "print(\"BMI for (weight = 50 kg, height = 1.68 m):\", bmi_case2_lambda)"
   ]
  },
  {
   "attachments": {},
   "cell_type": "markdown",
   "metadata": {},
   "source": [
    "<font size = \"5\">"
   ]
  }
 ],
 "metadata": {
  "kernelspec": {
   "display_name": "base",
   "language": "python",
   "name": "python3"
  },
  "language_info": {
   "codemirror_mode": {
    "name": "ipython",
    "version": 3
   },
   "file_extension": ".py",
   "mimetype": "text/x-python",
   "name": "python",
   "nbconvert_exporter": "python",
   "pygments_lexer": "ipython3",
   "version": "3.11.4"
  },
  "orig_nbformat": 4,
  "vscode": {
   "interpreter": {
    "hash": "45fc1f684f6f416f40889115beff3ddf69879b64cf4bfee48cb72a61e9d15d1a"
   }
  }
 },
 "nbformat": 4,
 "nbformat_minor": 2
}
