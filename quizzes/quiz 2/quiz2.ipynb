{
 "cells": [
  {
   "attachments": {},
   "cell_type": "markdown",
   "metadata": {},
   "source": [
    "# <span style=\"color:darkblue\"> QTM 151 - Quiz 2 </span>"
   ]
  },
  {
   "attachments": {},
   "cell_type": "markdown",
   "metadata": {},
   "source": [
    "## Try to submit as an HTML file"
   ]
  },
  {
   "attachments": {},
   "cell_type": "markdown",
   "metadata": {},
   "source": [
    "<font size=\"5\"> \n",
    "\n",
    "Print your Emory code below"
   ]
  },
  {
   "cell_type": "code",
   "execution_count": 1,
   "metadata": {},
   "outputs": [],
   "source": [
    "# Write your answer here\n",
    "\n",
    "# 2457321"
   ]
  },
  {
   "attachments": {},
   "cell_type": "markdown",
   "metadata": {},
   "source": [
    "<font size = \"5\" >\n",
    "This quiz is open book \n",
    "\n",
    "- You can use the lecture notes and Google\n",
    "- You will get partial credit for attempting the questions\n",
    "- To get full credit, the code should run as intended\n",
    "- You should <span style=\"color:red\"> NOT </span> communicate with other students\n",
    "\n",
    "Print the following message: <br>\n",
    "\n",
    "\"I will abide by Emory's code of conduct\"\n",
    "\n",
    "**By printing the message, you acknowledge that you will abide by Emory's code of conduct.**"
   ]
  },
  {
   "cell_type": "code",
   "execution_count": 2,
   "metadata": {},
   "outputs": [
    {
     "name": "stdout",
     "output_type": "stream",
     "text": [
      "I will abide by Emory's code of conduct\n"
     ]
    }
   ],
   "source": [
    "# Write your answer here:\n",
    "print(\"I will abide by Emory's code of conduct\")"
   ]
  },
  {
   "attachments": {},
   "cell_type": "markdown",
   "metadata": {},
   "source": [
    "<font size = \"5\">\n",
    "\n",
    "Import the libraries \"numpy\", \"matplotlib.pyplot\", and \"pandas\""
   ]
  },
  {
   "cell_type": "code",
   "execution_count": 3,
   "metadata": {},
   "outputs": [],
   "source": [
    "# Write your answer here\n",
    "import numpy as np\n",
    "import matplotlib.pyplot as plt\n",
    "import pandas as pd"
   ]
  },
  {
   "attachments": {},
   "cell_type": "markdown",
   "metadata": {},
   "source": [
    "<font size = \"5\">\n",
    "\n",
    "Import the dataset \"data_quiz/fifa23_players_basic.csv\"\n",
    "\n",
    "- It's a dataset on professional soccer players\n",
    "- Rows correspond to players (18,539)\n",
    "- Columns contain attributes of players (32)\n",
    "- Try to view the dataset before starting"
   ]
  },
  {
   "cell_type": "code",
   "execution_count": 4,
   "metadata": {},
   "outputs": [
    {
     "name": "stdout",
     "output_type": "stream",
     "text": [
      "         Known As           Full Name  Overall  Potential  Value(in Euro)  \\\n",
      "0        L. Messi        Lionel Messi       91         91        54000000   \n",
      "1      K. Benzema       Karim Benzema       91         91        64000000   \n",
      "2  R. Lewandowski  Robert Lewandowski       91         91        84000000   \n",
      "3    K. De Bruyne     Kevin De Bruyne       91         91       107500000   \n",
      "4       K. Mbappé       Kylian Mbappé       91         95       190500000   \n",
      "\n",
      "  Positions Played Best Position Nationality  \\\n",
      "0               RW           CAM   Argentina   \n",
      "1            CF,ST            CF      France   \n",
      "2               ST            ST      Poland   \n",
      "3           CM,CAM            CM     Belgium   \n",
      "4            ST,LW            ST      France   \n",
      "\n",
      "                                         Image Link  Age  ...  Preferred Foot  \\\n",
      "0  https://cdn.sofifa.net/players/158/023/23_60.png   35  ...            Left   \n",
      "1  https://cdn.sofifa.net/players/165/153/23_60.png   34  ...           Right   \n",
      "2  https://cdn.sofifa.net/players/188/545/23_60.png   33  ...           Right   \n",
      "3  https://cdn.sofifa.net/players/192/985/23_60.png   31  ...           Right   \n",
      "4  https://cdn.sofifa.net/players/231/747/23_60.png   23  ...           Right   \n",
      "\n",
      "   Weak Foot Rating  Skill Moves  International Reputation National Team Name  \\\n",
      "0                 4            4                         5          Argentina   \n",
      "1                 4            4                         4             France   \n",
      "2                 4            4                         5             Poland   \n",
      "3                 5            4                         4            Belgium   \n",
      "4                 4            5                         4             France   \n",
      "\n",
      "              National Team Image Link  National Team Position  \\\n",
      "0  https://cdn.sofifa.net/flags/ar.png                      RW   \n",
      "1  https://cdn.sofifa.net/flags/fr.png                      ST   \n",
      "2  https://cdn.sofifa.net/flags/pl.png                      ST   \n",
      "3  https://cdn.sofifa.net/flags/be.png                      RF   \n",
      "4  https://cdn.sofifa.net/flags/fr.png                      ST   \n",
      "\n",
      "  National Team Jersey Number Attacking Work Rate Defensive Work Rate  \n",
      "0                          10                 Low                 Low  \n",
      "1                          19              Medium              Medium  \n",
      "2                           9                High              Medium  \n",
      "3                           7                High                High  \n",
      "4                          10                High                 Low  \n",
      "\n",
      "[5 rows x 32 columns]\n"
     ]
    }
   ],
   "source": [
    "# Write your own code\n",
    "fifa_data = pd.read_csv(\"fifa23_players_basic.csv\")\n",
    "print(fifa_data.head())"
   ]
  },
  {
   "attachments": {},
   "cell_type": "markdown",
   "metadata": {},
   "source": [
    "<font size = \"5\">\n",
    "\n",
    "(a) Create a function and apply it to a column <br>\n",
    "\n",
    "<font size = \"3\">\n",
    "\n",
    "Step 1:\n",
    "- Define a function with a parameter \"overall\"\n",
    "- If \"overall < 85\", status = \"Regular Player\"\n",
    "- If \"age_player >= 85\", status = \"Top Player\"\n",
    "- The function returns \"status\"\n",
    "\n",
    "Step 2:\n",
    "- Extract the column \"Overall\" in the dataset <br>\n",
    "(be carefeful to write the \"O\" capitalized)\n",
    "- Create a new variable called \"top_players\" <br>\n",
    "to assign each player to the correct status\n",
    "\n",
    "HINT: Use the \".apply()\" function"
   ]
  },
  {
   "cell_type": "code",
   "execution_count": 5,
   "metadata": {},
   "outputs": [
    {
     "name": "stdout",
     "output_type": "stream",
     "text": [
      "   Overall top_players\n",
      "0       91  Top Player\n",
      "1       91  Top Player\n",
      "2       91  Top Player\n",
      "3       91  Top Player\n",
      "4       91  Top Player\n"
     ]
    }
   ],
   "source": [
    "# Write your own code\n",
    "\n",
    "def player_status(overall):\n",
    "    if overall < 85:\n",
    "        return \"Regular Player\"\n",
    "    elif overall >= 85:\n",
    "        return \"Top Player\"\n",
    "\n",
    "\n",
    "fifa_data['top_players'] = fifa_data['Overall'].apply(player_status)\n",
    "\n",
    "print(fifa_data[['Overall', 'top_players']].head())"
   ]
  },
  {
   "attachments": {},
   "cell_type": "markdown",
   "metadata": {},
   "source": [
    "<font size = \"5\">\n",
    "\n",
    "(b) Use queries + global variables\n",
    "\n",
    "<font size = \"3\">\n",
    "\n",
    "- Compute the mean of the column \"Wage(in Euro)\" <br>\n",
    "and store it as a variable\n",
    "- Subset the players whose value is above the mean value <br>\n",
    "  using \".query()\"\n",
    "\n",
    "\n",
    "HINT: Remember that there is a special syntax for <br>\n",
    "when the column names have spaces (see Lecture 9) <br>\n",
    "Reference the column as ``` `Wage(in Euro)`    ``` inside .query()"
   ]
  },
  {
   "cell_type": "code",
   "execution_count": 6,
   "metadata": {},
   "outputs": [
    {
     "name": "stdout",
     "output_type": "stream",
     "text": [
      "Mean Wage: 8824.537461567506\n",
      "\n",
      "Players with Wage above the mean:\n",
      "            Full Name  Wage(in Euro)\n",
      "0        Lionel Messi         195000\n",
      "1       Karim Benzema         450000\n",
      "2  Robert Lewandowski         420000\n",
      "3     Kevin De Bruyne         350000\n",
      "4       Kylian Mbappé         230000\n"
     ]
    }
   ],
   "source": [
    "# Write your own code\n",
    "\n",
    "mean_wage = fifa_data['Wage(in Euro)'].mean()\n",
    "\n",
    "above_mean_wage_players = fifa_data.query('`Wage(in Euro)` > @mean_wage')\n",
    "\n",
    "print(f\"Mean Wage: {mean_wage}\")\n",
    "print(\"\\nPlayers with Wage above the mean:\")\n",
    "print(above_mean_wage_players[['Full Name', 'Wage(in Euro)']].head())"
   ]
  },
  {
   "attachments": {},
   "cell_type": "markdown",
   "metadata": {},
   "source": [
    "<font size = \"5\">\n",
    "\n",
    "(c) Use sorting + \".iloc[]\"\n",
    "\n",
    "<font size = \"3\">\n",
    "\n",
    "- Use \".sort_values()\" to order the \"Age\" column <br>\n",
    "from youngest to oldest\n",
    "- Get a subset with the 5 youngest players\n",
    "- Print their age"
   ]
  },
  {
   "cell_type": "code",
   "execution_count": 7,
   "metadata": {},
   "outputs": [
    {
     "name": "stdout",
     "output_type": "stream",
     "text": [
      "Ages of the 5 youngest players:\n",
      "             Full Name  Age\n",
      "17956  Andreas Dithmer   16\n",
      "18014      José Ardila   16\n",
      "16084      Serge Ngoma   16\n",
      "11481      Obed Vargas   16\n",
      "17591  Alan Madaliński   16\n"
     ]
    }
   ],
   "source": [
    "# Write your own code\n",
    "\n",
    "sorted_fifa_data = fifa_data.sort_values(by='Age')\n",
    "\n",
    "youngest_players_subset = sorted_fifa_data.iloc[:5]\n",
    "\n",
    "print(\"Ages of the 5 youngest players:\")\n",
    "print(youngest_players_subset[['Full Name', 'Age']])\n"
   ]
  },
  {
   "attachments": {},
   "cell_type": "markdown",
   "metadata": {},
   "source": [
    "<font size = \"5\">\n",
    "\n",
    "(d) Create a function with four inputs $f(y,x,b0,b1)$\n",
    "\n",
    "<font size = \"3\">\n",
    "\n",
    "$\\qquad e2 = (y - b_0 - b_1 * x)^2$\n",
    "\n",
    "- The function should return the mean of e2\n",
    "- This is the mean-square error (mse)\n",
    "- Call the function \"fn_mse\"\n",
    "- Let $y$ be the column \"Potential\"\n",
    "- Let $x$ be the column \"Age\" \n",
    "- Does <br>\n",
    "$\\qquad (b_0 = 80, b_1 = 0.4)$ or <br>\n",
    "$\\qquad (b_0 = 80, b_1 =-0.3)$ or <br>\n",
    "$\\qquad (b_0 = 80, b_1 = -0.5)$ <br>\n",
    "produce the lowest value of mse?\n",
    "- Print your results"
   ]
  },
  {
   "cell_type": "code",
   "execution_count": 8,
   "metadata": {},
   "outputs": [
    {
     "name": "stdout",
     "output_type": "stream",
     "text": [
      "MSE for (b0 = 80, b1 = 0.4): 412.1016840174767\n",
      "MSE for (b0 = 80, b1 = -0.3): 37.72189870003776\n",
      "MSE for (b0 = 80, b1 = -0.5): 49.43713253142025\n"
     ]
    }
   ],
   "source": [
    "# Write your own code\n",
    "\n",
    "\n",
    "def fn_mse(y, x, b0, b1):\n",
    "    e2 = (y - b0 - b1 * x)**2\n",
    "    return e2.mean()\n",
    "\n",
    "y = fifa_data['Potential']\n",
    "x = fifa_data['Age']\n",
    "\n",
    "mse_params1 = fn_mse(y, x, 80, 0.4)\n",
    "mse_params2 = fn_mse(y, x, 80, -0.3)\n",
    "mse_params3 = fn_mse(y, x, 80, -0.5)\n",
    "\n",
    "print(f'MSE for (b0 = 80, b1 = 0.4): {mse_params1}')\n",
    "print(f'MSE for (b0 = 80, b1 = -0.3): {mse_params2}')\n",
    "print(f'MSE for (b0 = 80, b1 = -0.5): {mse_params3}')"
   ]
  },
  {
   "attachments": {},
   "cell_type": "markdown",
   "metadata": {},
   "source": [
    "<font size = \"5\">\n",
    "\n",
    "(e) Split a dataset into subsets\n",
    "\n",
    "<font size = \"3\">\n",
    "\n",
    "- Create ``` list_status = [0,1]```\n",
    "- Create ``` list_prob = [0.5, 0.5]```\n",
    "- Create a new variable $n$ with the number of rows of the dataset\n",
    "- Define a random seed that equals 42\n",
    "\n",
    "- Use \n",
    "```python\n",
    "    np.random.choice(list_status,\n",
    "                     size = n,\n",
    "                     p = list_prob)\n",
    "```\n",
    "$\\qquad$ to create a new column called \"status\" <br>\n",
    "$\\qquad$ which randomly assigns each row to \"0\" or \"1\" <br>\n",
    "$\\qquad$ with equal probability\n",
    "- Use .query() to subset all observations with status == 0.<br>\n",
    "store it in a new dataset called \"data0\"\n",
    "- Use .query() to subset all observations with status == 1.<br>\n",
    "store it in a new dataset called \"data1\"\n",
    "\n"
   ]
  },
  {
   "cell_type": "code",
   "execution_count": 9,
   "metadata": {},
   "outputs": [],
   "source": [
    "# Write your own code\n",
    "\n",
    "list_status = [0, 1]\n",
    "list_prob = [0.5, 0.5]\n",
    "n = len(fifa_data)\n",
    "\n",
    "np.random.seed(42)\n",
    "fifa_data['status'] = np.random.choice(list_status, size=n, p=list_prob)\n",
    "\n",
    "data0 = fifa_data.query('status == 0')\n",
    "data1 = fifa_data.query('status == 1')\n"
   ]
  },
  {
   "attachments": {},
   "cell_type": "markdown",
   "metadata": {},
   "source": [
    "<font size = \"5\">\n",
    "\n",
    "(f) Create two overlapping histogram plots\n",
    "\n",
    "<font size = \"3\">\n",
    "\n",
    "- This question requires the two datasets you created in (e)\n",
    "- Display the distribution of \"Age\" for \"data0\" and \"data1\"\n",
    "- Use the \"alpha\" option to make the graphs semitransparent\n",
    "- You will need to add a legend, label the axes, and the title\n",
    "\n",
    "Note: The goal of this question is to illustrate that random <br>\n",
    "assignment produces very similar distributions between two groups\n",
    "\n",
    "- Provide a short interpretation of the graph using the information from the Note"
   ]
  },
  {
   "cell_type": "code",
   "execution_count": 10,
   "metadata": {},
   "outputs": [
    {
     "data": {
      "image/png": "[encoded data removed]",
      "text/plain": [
       "<Figure size 640x480 with 1 Axes>"
      ]
     },
     "metadata": {},
     "output_type": "display_data"
    }
   ],
   "source": [
    "# Write your own code\n",
    "\n",
    "plt.hist(data0['Age'], bins=10, alpha=0.5, label='data0', color='pink')\n",
    "plt.hist(data1['Age'], bins=10, alpha=0.5, label='data1', color='blue')\n",
    "\n",
    "plt.legend()\n",
    "plt.xlabel('Age (years)')\n",
    "plt.ylabel('Frequency')\n",
    "plt.title('Distribution of Age for data0 and data1')\n",
    "\n",
    "plt.show()"
   ]
  },
  {
   "cell_type": "markdown",
   "metadata": {},
   "source": [
    "As we can see, though the two distributions differ slightly, they are both centered at around 23 years and are very similar in shape. This is consistent with the statistical theorems regarding random assignment. "
   ]
  }
 ],
 "metadata": {
  "kernelspec": {
   "display_name": "base",
   "language": "python",
   "name": "python3"
  },
  "language_info": {
   "codemirror_mode": {
    "name": "ipython",
    "version": 3
   },
   "file_extension": ".py",
   "mimetype": "text/x-python",
   "name": "python",
   "nbconvert_exporter": "python",
   "pygments_lexer": "ipython3",
   "version": "3.11.4"
  },
  "orig_nbformat": 4,
  "vscode": {
   "interpreter": {
    "hash": "45fc1f684f6f416f40889115beff3ddf69879b64cf4bfee48cb72a61e9d15d1a"
   }
  }
 },
 "nbformat": 4,
 "nbformat_minor": 2
}
